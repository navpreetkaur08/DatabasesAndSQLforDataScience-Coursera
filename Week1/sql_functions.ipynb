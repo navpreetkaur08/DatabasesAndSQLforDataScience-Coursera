{
 "cells": [
  {
   "cell_type": "markdown",
   "metadata": {},
   "source": [
    "## Connect to Db2 Database"
   ]
  },
  {
   "cell_type": "code",
   "execution_count": 4,
   "metadata": {},
   "outputs": [
    {
     "name": "stdout",
     "output_type": "stream",
     "text": [
      "The sql extension is already loaded. To reload it, use:\n",
      "  %reload_ext sql\n"
     ]
    },
    {
     "data": {
      "text/plain": [
       "'Connected: gtx81096@BLUDB'"
      ]
     },
     "execution_count": 4,
     "metadata": {},
     "output_type": "execute_result"
    }
   ],
   "source": [
    "%load_ext sql\n",
    "%sql ibm_db_sa://gtx81096:n97vjc1cm4b6d@4q@dashdb-txn-sbox-yp-dal09-04.services.dal.bluemix.net:50000/BLUDB"
   ]
  },
  {
   "cell_type": "markdown",
   "metadata": {},
   "source": [
    "### Create Pet Sale Table  \n",
    "Create the PETSALE table and populate the table with data. "
   ]
  },
  {
   "cell_type": "code",
   "execution_count": 5,
   "metadata": {},
   "outputs": [
    {
     "name": "stdout",
     "output_type": "stream",
     "text": [
      " * ibm_db_sa://gtx81096:***@dashdb-txn-sbox-yp-dal09-04.services.dal.bluemix.net:50000/BLUDB\n",
      "Done.\n",
      " * ibm_db_sa://gtx81096:***@dashdb-txn-sbox-yp-dal09-04.services.dal.bluemix.net:50000/BLUDB\n",
      "Done.\n",
      " * ibm_db_sa://gtx81096:***@dashdb-txn-sbox-yp-dal09-04.services.dal.bluemix.net:50000/BLUDB\n",
      "9 rows affected.\n"
     ]
    },
    {
     "data": {
      "text/plain": [
       "[]"
      ]
     },
     "execution_count": 5,
     "metadata": {},
     "output_type": "execute_result"
    }
   ],
   "source": [
    "#Drop the PETSALE table in case it exists\n",
    "%sql drop table PETSALE;\n",
    "\n",
    "#Create the PETSALE table \n",
    "%sql create table PETSALE \\\n",
    "(ID INTEGER PRIMARY KEY NOT NULL, ANIMAL VARCHAR(20), QUANTITY INTEGER, \\\n",
    "SALEPRICE DECIMAL(6,2), SALEDATE DATE);\n",
    "\n",
    "#Insert sample data into PETSALE table\n",
    "%sql insert into PETSALE values (1,'Cat',9,450.09,'2018-05-29'), (2,'Dog',3,666.66,'2018-06-01'), \\\n",
    "(3,'Dog',1,100.00,'2018-06-04'), (4,'Parrot',2,50.00,'2018-06-04'), (5,'Dog',1,75.75,'2018-06-10'), \\\n",
    "(6,'Hamster',6,60.60,'2018-06-11'), (7,'Cat',1,44.44,'2018-06-11'), \\\n",
    "(8,'Goldfish',24,48.48,'2018-06-14'), (9,'Dog',2,222.22,'2018-06-15');"
   ]
  },
  {
   "cell_type": "code",
   "execution_count": 14,
   "metadata": {},
   "outputs": [
    {
     "name": "stdout",
     "output_type": "stream",
     "text": [
      " * ibm_db_sa://gtx81096:***@dashdb-txn-sbox-yp-dal09-04.services.dal.bluemix.net:50000/BLUDB\n",
      "Done.\n"
     ]
    },
    {
     "data": {
      "text/html": [
       "<table>\n",
       "    <tr>\n",
       "        <th>id</th>\n",
       "        <th>animal</th>\n",
       "        <th>quantity</th>\n",
       "        <th>saleprice</th>\n",
       "        <th>saledate</th>\n",
       "    </tr>\n",
       "    <tr>\n",
       "        <td>1</td>\n",
       "        <td>Cat</td>\n",
       "        <td>9</td>\n",
       "        <td>450.09</td>\n",
       "        <td>2018-05-29</td>\n",
       "    </tr>\n",
       "    <tr>\n",
       "        <td>2</td>\n",
       "        <td>Dog</td>\n",
       "        <td>3</td>\n",
       "        <td>666.66</td>\n",
       "        <td>2018-06-01</td>\n",
       "    </tr>\n",
       "    <tr>\n",
       "        <td>3</td>\n",
       "        <td>Dog</td>\n",
       "        <td>1</td>\n",
       "        <td>100.00</td>\n",
       "        <td>2018-06-04</td>\n",
       "    </tr>\n",
       "    <tr>\n",
       "        <td>4</td>\n",
       "        <td>Parrot</td>\n",
       "        <td>2</td>\n",
       "        <td>50.00</td>\n",
       "        <td>2018-06-04</td>\n",
       "    </tr>\n",
       "    <tr>\n",
       "        <td>5</td>\n",
       "        <td>Dog</td>\n",
       "        <td>1</td>\n",
       "        <td>75.75</td>\n",
       "        <td>2018-06-10</td>\n",
       "    </tr>\n",
       "    <tr>\n",
       "        <td>6</td>\n",
       "        <td>Hamster</td>\n",
       "        <td>6</td>\n",
       "        <td>60.60</td>\n",
       "        <td>2018-06-11</td>\n",
       "    </tr>\n",
       "    <tr>\n",
       "        <td>7</td>\n",
       "        <td>Cat</td>\n",
       "        <td>1</td>\n",
       "        <td>44.44</td>\n",
       "        <td>2018-06-11</td>\n",
       "    </tr>\n",
       "    <tr>\n",
       "        <td>8</td>\n",
       "        <td>Goldfish</td>\n",
       "        <td>24</td>\n",
       "        <td>48.48</td>\n",
       "        <td>2018-06-14</td>\n",
       "    </tr>\n",
       "    <tr>\n",
       "        <td>9</td>\n",
       "        <td>Dog</td>\n",
       "        <td>2</td>\n",
       "        <td>222.22</td>\n",
       "        <td>2018-06-15</td>\n",
       "    </tr>\n",
       "</table>"
      ],
      "text/plain": [
       "[(1, 'Cat', 9, Decimal('450.09'), datetime.date(2018, 5, 29)),\n",
       " (2, 'Dog', 3, Decimal('666.66'), datetime.date(2018, 6, 1)),\n",
       " (3, 'Dog', 1, Decimal('100.00'), datetime.date(2018, 6, 4)),\n",
       " (4, 'Parrot', 2, Decimal('50.00'), datetime.date(2018, 6, 4)),\n",
       " (5, 'Dog', 1, Decimal('75.75'), datetime.date(2018, 6, 10)),\n",
       " (6, 'Hamster', 6, Decimal('60.60'), datetime.date(2018, 6, 11)),\n",
       " (7, 'Cat', 1, Decimal('44.44'), datetime.date(2018, 6, 11)),\n",
       " (8, 'Goldfish', 24, Decimal('48.48'), datetime.date(2018, 6, 14)),\n",
       " (9, 'Dog', 2, Decimal('222.22'), datetime.date(2018, 6, 15))]"
      ]
     },
     "execution_count": 14,
     "metadata": {},
     "output_type": "execute_result"
    }
   ],
   "source": [
    "%sql select * from PETSALE;"
   ]
  },
  {
   "cell_type": "markdown",
   "metadata": {},
   "source": [
    "## Query the Db"
   ]
  },
  {
   "cell_type": "code",
   "execution_count": 7,
   "metadata": {},
   "outputs": [
    {
     "name": "stdout",
     "output_type": "stream",
     "text": [
      " * ibm_db_sa://gtx81096:***@dashdb-txn-sbox-yp-dal09-04.services.dal.bluemix.net:50000/BLUDB\n",
      "Done.\n"
     ]
    },
    {
     "data": {
      "text/html": [
       "<table>\n",
       "    <tr>\n",
       "        <th>1</th>\n",
       "    </tr>\n",
       "    <tr>\n",
       "        <td>1718.24</td>\n",
       "    </tr>\n",
       "</table>"
      ],
      "text/plain": [
       "[(Decimal('1718.24'),)]"
      ]
     },
     "execution_count": 7,
     "metadata": {},
     "output_type": "execute_result"
    }
   ],
   "source": [
    "#Total sales\n",
    "%sql select SUM(SALEPRICE) from PETSALE;"
   ]
  },
  {
   "cell_type": "code",
   "execution_count": 8,
   "metadata": {},
   "outputs": [
    {
     "name": "stdout",
     "output_type": "stream",
     "text": [
      " * ibm_db_sa://gtx81096:***@dashdb-txn-sbox-yp-dal09-04.services.dal.bluemix.net:50000/BLUDB\n",
      "Done.\n"
     ]
    },
    {
     "data": {
      "text/html": [
       "<table>\n",
       "    <tr>\n",
       "        <th>sum_of_saleprice</th>\n",
       "    </tr>\n",
       "    <tr>\n",
       "        <td>1718.24</td>\n",
       "    </tr>\n",
       "</table>"
      ],
      "text/plain": [
       "[(Decimal('1718.24'),)]"
      ]
     },
     "execution_count": 8,
     "metadata": {},
     "output_type": "execute_result"
    }
   ],
   "source": [
    "#Total sales labeled as SUM_OF_SALEPRICE\n",
    "%sql select SUM(SALEPRICE) AS SUM_OF_SALEPRICE from PETSALE;"
   ]
  },
  {
   "cell_type": "code",
   "execution_count": 9,
   "metadata": {},
   "outputs": [
    {
     "name": "stdout",
     "output_type": "stream",
     "text": [
      " * ibm_db_sa://gtx81096:***@dashdb-txn-sbox-yp-dal09-04.services.dal.bluemix.net:50000/BLUDB\n",
      "Done.\n"
     ]
    },
    {
     "data": {
      "text/html": [
       "<table>\n",
       "    <tr>\n",
       "        <th>1</th>\n",
       "    </tr>\n",
       "    <tr>\n",
       "        <td>24</td>\n",
       "    </tr>\n",
       "</table>"
      ],
      "text/plain": [
       "[(24,)]"
      ]
     },
     "execution_count": 9,
     "metadata": {},
     "output_type": "execute_result"
    }
   ],
   "source": [
    "#Maximum number sold\n",
    "%sql select MAX(QUANTITY) from PETSALE;"
   ]
  },
  {
   "cell_type": "code",
   "execution_count": 10,
   "metadata": {},
   "outputs": [
    {
     "name": "stdout",
     "output_type": "stream",
     "text": [
      " * ibm_db_sa://gtx81096:***@dashdb-txn-sbox-yp-dal09-04.services.dal.bluemix.net:50000/BLUDB\n",
      "Done.\n"
     ]
    },
    {
     "data": {
      "text/html": [
       "<table>\n",
       "    <tr>\n",
       "        <th>1</th>\n",
       "    </tr>\n",
       "    <tr>\n",
       "        <td>190.92</td>\n",
       "    </tr>\n",
       "</table>"
      ],
      "text/plain": [
       "[(190.92,)]"
      ]
     },
     "execution_count": 10,
     "metadata": {},
     "output_type": "execute_result"
    }
   ],
   "source": [
    "#Average sales\n",
    "%sql select CAST(ROUND(AVG(SALEPRICE), 2) as float) from PETSALE;"
   ]
  },
  {
   "cell_type": "code",
   "execution_count": 11,
   "metadata": {},
   "outputs": [
    {
     "name": "stdout",
     "output_type": "stream",
     "text": [
      " * ibm_db_sa://gtx81096:***@dashdb-txn-sbox-yp-dal09-04.services.dal.bluemix.net:50000/BLUDB\n",
      "Done.\n"
     ]
    },
    {
     "data": {
      "text/html": [
       "<table>\n",
       "    <tr>\n",
       "        <th>1</th>\n",
       "    </tr>\n",
       "    <tr>\n",
       "        <td>127.27</td>\n",
       "    </tr>\n",
       "</table>"
      ],
      "text/plain": [
       "[(127.27,)]"
      ]
     },
     "execution_count": 11,
     "metadata": {},
     "output_type": "execute_result"
    }
   ],
   "source": [
    "#Average sale price per dog\n",
    "%sql select CAST(ROUND(AVG( SALEPRICE / QUANTITY ), 2) as float) from PETSALE where ANIMAL = 'Dog';"
   ]
  },
  {
   "cell_type": "code",
   "execution_count": 12,
   "metadata": {},
   "outputs": [
    {
     "name": "stdout",
     "output_type": "stream",
     "text": [
      " * ibm_db_sa://gtx81096:***@dashdb-txn-sbox-yp-dal09-04.services.dal.bluemix.net:50000/BLUDB\n",
      "Done.\n"
     ]
    },
    {
     "data": {
      "text/html": [
       "<table>\n",
       "    <tr>\n",
       "        <th>1</th>\n",
       "    </tr>\n",
       "    <tr>\n",
       "        <td>450.00</td>\n",
       "    </tr>\n",
       "    <tr>\n",
       "        <td>667.00</td>\n",
       "    </tr>\n",
       "    <tr>\n",
       "        <td>100.00</td>\n",
       "    </tr>\n",
       "    <tr>\n",
       "        <td>50.00</td>\n",
       "    </tr>\n",
       "    <tr>\n",
       "        <td>76.00</td>\n",
       "    </tr>\n",
       "    <tr>\n",
       "        <td>61.00</td>\n",
       "    </tr>\n",
       "    <tr>\n",
       "        <td>44.00</td>\n",
       "    </tr>\n",
       "    <tr>\n",
       "        <td>48.00</td>\n",
       "    </tr>\n",
       "    <tr>\n",
       "        <td>222.00</td>\n",
       "    </tr>\n",
       "</table>"
      ],
      "text/plain": [
       "[(Decimal('450.00'),),\n",
       " (Decimal('667.00'),),\n",
       " (Decimal('100.00'),),\n",
       " (Decimal('50.00'),),\n",
       " (Decimal('76.00'),),\n",
       " (Decimal('61.00'),),\n",
       " (Decimal('44.00'),),\n",
       " (Decimal('48.00'),),\n",
       " (Decimal('222.00'),)]"
      ]
     },
     "execution_count": 12,
     "metadata": {},
     "output_type": "execute_result"
    }
   ],
   "source": [
    "#Sale price per entry rounded\n",
    "%sql select ROUND(SALEPRICE) from PETSALE;"
   ]
  },
  {
   "cell_type": "code",
   "execution_count": 13,
   "metadata": {},
   "outputs": [
    {
     "name": "stdout",
     "output_type": "stream",
     "text": [
      " * ibm_db_sa://gtx81096:***@dashdb-txn-sbox-yp-dal09-04.services.dal.bluemix.net:50000/BLUDB\n",
      "Done.\n"
     ]
    },
    {
     "data": {
      "text/html": [
       "<table>\n",
       "    <tr>\n",
       "        <th>1</th>\n",
       "    </tr>\n",
       "    <tr>\n",
       "        <td>3</td>\n",
       "    </tr>\n",
       "    <tr>\n",
       "        <td>3</td>\n",
       "    </tr>\n",
       "    <tr>\n",
       "        <td>3</td>\n",
       "    </tr>\n",
       "    <tr>\n",
       "        <td>6</td>\n",
       "    </tr>\n",
       "    <tr>\n",
       "        <td>3</td>\n",
       "    </tr>\n",
       "    <tr>\n",
       "        <td>7</td>\n",
       "    </tr>\n",
       "    <tr>\n",
       "        <td>3</td>\n",
       "    </tr>\n",
       "    <tr>\n",
       "        <td>8</td>\n",
       "    </tr>\n",
       "    <tr>\n",
       "        <td>3</td>\n",
       "    </tr>\n",
       "</table>"
      ],
      "text/plain": [
       "[(3,), (3,), (3,), (6,), (3,), (7,), (3,), (8,), (3,)]"
      ]
     },
     "execution_count": 13,
     "metadata": {},
     "output_type": "execute_result"
    }
   ],
   "source": [
    "#Length of each string in the ANIMAL column\n",
    "%sql select LENGTH(ANIMAL) from PETSALE;"
   ]
  },
  {
   "cell_type": "code",
   "execution_count": 19,
   "metadata": {},
   "outputs": [
    {
     "name": "stdout",
     "output_type": "stream",
     "text": [
      " * ibm_db_sa://gtx81096:***@dashdb-txn-sbox-yp-dal09-04.services.dal.bluemix.net:50000/BLUDB\n",
      "Done.\n"
     ]
    },
    {
     "data": {
      "text/html": [
       "<table>\n",
       "    <tr>\n",
       "        <th>1</th>\n",
       "    </tr>\n",
       "    <tr>\n",
       "        <td>CAT</td>\n",
       "    </tr>\n",
       "    <tr>\n",
       "        <td>DOG</td>\n",
       "    </tr>\n",
       "    <tr>\n",
       "        <td>DOG</td>\n",
       "    </tr>\n",
       "    <tr>\n",
       "        <td>PARROT</td>\n",
       "    </tr>\n",
       "    <tr>\n",
       "        <td>DOG</td>\n",
       "    </tr>\n",
       "    <tr>\n",
       "        <td>HAMSTER</td>\n",
       "    </tr>\n",
       "    <tr>\n",
       "        <td>CAT</td>\n",
       "    </tr>\n",
       "    <tr>\n",
       "        <td>GOLDFISH</td>\n",
       "    </tr>\n",
       "    <tr>\n",
       "        <td>DOG</td>\n",
       "    </tr>\n",
       "</table>"
      ],
      "text/plain": [
       "[('CAT',),\n",
       " ('DOG',),\n",
       " ('DOG',),\n",
       " ('PARROT',),\n",
       " ('DOG',),\n",
       " ('HAMSTER',),\n",
       " ('CAT',),\n",
       " ('GOLDFISH',),\n",
       " ('DOG',)]"
      ]
     },
     "execution_count": 19,
     "metadata": {},
     "output_type": "execute_result"
    }
   ],
   "source": [
    "#Select animals converted to upper case\n",
    "%sql select UCASE(ANIMAL) from PETSALE;"
   ]
  },
  {
   "cell_type": "code",
   "execution_count": 20,
   "metadata": {},
   "outputs": [
    {
     "name": "stdout",
     "output_type": "stream",
     "text": [
      " * ibm_db_sa://gtx81096:***@dashdb-txn-sbox-yp-dal09-04.services.dal.bluemix.net:50000/BLUDB\n",
      "Done.\n"
     ]
    },
    {
     "data": {
      "text/html": [
       "<table>\n",
       "    <tr>\n",
       "        <th>1</th>\n",
       "    </tr>\n",
       "    <tr>\n",
       "        <td>CAT</td>\n",
       "    </tr>\n",
       "    <tr>\n",
       "        <td>DOG</td>\n",
       "    </tr>\n",
       "    <tr>\n",
       "        <td>GOLDFISH</td>\n",
       "    </tr>\n",
       "    <tr>\n",
       "        <td>HAMSTER</td>\n",
       "    </tr>\n",
       "    <tr>\n",
       "        <td>PARROT</td>\n",
       "    </tr>\n",
       "</table>"
      ],
      "text/plain": [
       "[('CAT',), ('DOG',), ('GOLDFISH',), ('HAMSTER',), ('PARROT',)]"
      ]
     },
     "execution_count": 20,
     "metadata": {},
     "output_type": "execute_result"
    }
   ],
   "source": [
    "#Select unique animals converted to upper case\n",
    "%sql select DISTINCT(UCASE(ANIMAL)) from PETSALE;"
   ]
  },
  {
   "cell_type": "code",
   "execution_count": 21,
   "metadata": {},
   "outputs": [
    {
     "name": "stdout",
     "output_type": "stream",
     "text": [
      " * ibm_db_sa://gtx81096:***@dashdb-txn-sbox-yp-dal09-04.services.dal.bluemix.net:50000/BLUDB\n",
      "Done.\n"
     ]
    },
    {
     "data": {
      "text/html": [
       "<table>\n",
       "    <tr>\n",
       "        <th>id</th>\n",
       "        <th>animal</th>\n",
       "        <th>quantity</th>\n",
       "        <th>saleprice</th>\n",
       "        <th>saledate</th>\n",
       "    </tr>\n",
       "    <tr>\n",
       "        <td>1</td>\n",
       "        <td>Cat</td>\n",
       "        <td>9</td>\n",
       "        <td>450.09</td>\n",
       "        <td>2018-05-29</td>\n",
       "    </tr>\n",
       "    <tr>\n",
       "        <td>7</td>\n",
       "        <td>Cat</td>\n",
       "        <td>1</td>\n",
       "        <td>44.44</td>\n",
       "        <td>2018-06-11</td>\n",
       "    </tr>\n",
       "</table>"
      ],
      "text/plain": [
       "[(1, 'Cat', 9, Decimal('450.09'), datetime.date(2018, 5, 29)),\n",
       " (7, 'Cat', 1, Decimal('44.44'), datetime.date(2018, 6, 11))]"
      ]
     },
     "execution_count": 21,
     "metadata": {},
     "output_type": "execute_result"
    }
   ],
   "source": [
    "#Select entries with animal cat (convert animal to lower case to find 'cat')\n",
    "%sql select * from PETSALE where LCASE(ANIMAL) = 'cat';"
   ]
  },
  {
   "cell_type": "code",
   "execution_count": 22,
   "metadata": {},
   "outputs": [
    {
     "name": "stdout",
     "output_type": "stream",
     "text": [
      " * ibm_db_sa://gtx81096:***@dashdb-txn-sbox-yp-dal09-04.services.dal.bluemix.net:50000/BLUDB\n",
      "Done.\n"
     ]
    },
    {
     "data": {
      "text/html": [
       "<table>\n",
       "    <tr>\n",
       "        <th>1</th>\n",
       "    </tr>\n",
       "    <tr>\n",
       "        <td>29</td>\n",
       "    </tr>\n",
       "    <tr>\n",
       "        <td>11</td>\n",
       "    </tr>\n",
       "</table>"
      ],
      "text/plain": [
       "[(29,), (11,)]"
      ]
     },
     "execution_count": 22,
     "metadata": {},
     "output_type": "execute_result"
    }
   ],
   "source": [
    "#Select the day of the month for the sale date for cat entries\n",
    "%sql select DAY(SALEDATE) from PETSALE where ANIMAL = 'Cat';"
   ]
  },
  {
   "cell_type": "code",
   "execution_count": 23,
   "metadata": {},
   "outputs": [
    {
     "name": "stdout",
     "output_type": "stream",
     "text": [
      " * ibm_db_sa://gtx81096:***@dashdb-txn-sbox-yp-dal09-04.services.dal.bluemix.net:50000/BLUDB\n",
      "Done.\n"
     ]
    },
    {
     "data": {
      "text/html": [
       "<table>\n",
       "    <tr>\n",
       "        <th>1</th>\n",
       "    </tr>\n",
       "    <tr>\n",
       "        <td>1</td>\n",
       "    </tr>\n",
       "</table>"
      ],
      "text/plain": [
       "[(Decimal('1'),)]"
      ]
     },
     "execution_count": 23,
     "metadata": {},
     "output_type": "execute_result"
    }
   ],
   "source": [
    "#Count the number of entries for the month of May\n",
    "%sql select COUNT(*) from PETSALE where MONTH(SALEDATE)='05';"
   ]
  },
  {
   "cell_type": "code",
   "execution_count": 24,
   "metadata": {},
   "outputs": [
    {
     "name": "stdout",
     "output_type": "stream",
     "text": [
      " * ibm_db_sa://gtx81096:***@dashdb-txn-sbox-yp-dal09-04.services.dal.bluemix.net:50000/BLUDB\n",
      "Done.\n"
     ]
    },
    {
     "data": {
      "text/html": [
       "<table>\n",
       "    <tr>\n",
       "        <th>1</th>\n",
       "    </tr>\n",
       "    <tr>\n",
       "        <td>2018-06-01</td>\n",
       "    </tr>\n",
       "    <tr>\n",
       "        <td>2018-06-04</td>\n",
       "    </tr>\n",
       "    <tr>\n",
       "        <td>2018-06-07</td>\n",
       "    </tr>\n",
       "    <tr>\n",
       "        <td>2018-06-07</td>\n",
       "    </tr>\n",
       "    <tr>\n",
       "        <td>2018-06-13</td>\n",
       "    </tr>\n",
       "    <tr>\n",
       "        <td>2018-06-14</td>\n",
       "    </tr>\n",
       "    <tr>\n",
       "        <td>2018-06-14</td>\n",
       "    </tr>\n",
       "    <tr>\n",
       "        <td>2018-06-17</td>\n",
       "    </tr>\n",
       "    <tr>\n",
       "        <td>2018-06-18</td>\n",
       "    </tr>\n",
       "</table>"
      ],
      "text/plain": [
       "[(datetime.date(2018, 6, 1),),\n",
       " (datetime.date(2018, 6, 4),),\n",
       " (datetime.date(2018, 6, 7),),\n",
       " (datetime.date(2018, 6, 7),),\n",
       " (datetime.date(2018, 6, 13),),\n",
       " (datetime.date(2018, 6, 14),),\n",
       " (datetime.date(2018, 6, 14),),\n",
       " (datetime.date(2018, 6, 17),),\n",
       " (datetime.date(2018, 6, 18),)]"
      ]
     },
     "execution_count": 24,
     "metadata": {},
     "output_type": "execute_result"
    }
   ],
   "source": [
    "#Select the sale date after adding 3 days to it\n",
    "%sql select (SALEDATE + 3 DAYS) from PETSALE;"
   ]
  },
  {
   "cell_type": "code",
   "execution_count": 25,
   "metadata": {},
   "outputs": [
    {
     "name": "stdout",
     "output_type": "stream",
     "text": [
      " * ibm_db_sa://gtx81096:***@dashdb-txn-sbox-yp-dal09-04.services.dal.bluemix.net:50000/BLUDB\n",
      "Done.\n"
     ]
    },
    {
     "data": {
      "text/html": [
       "<table>\n",
       "    <tr>\n",
       "        <th>1</th>\n",
       "    </tr>\n",
       "    <tr>\n",
       "        <td>525</td>\n",
       "    </tr>\n",
       "    <tr>\n",
       "        <td>522</td>\n",
       "    </tr>\n",
       "    <tr>\n",
       "        <td>519</td>\n",
       "    </tr>\n",
       "    <tr>\n",
       "        <td>519</td>\n",
       "    </tr>\n",
       "    <tr>\n",
       "        <td>513</td>\n",
       "    </tr>\n",
       "    <tr>\n",
       "        <td>512</td>\n",
       "    </tr>\n",
       "    <tr>\n",
       "        <td>512</td>\n",
       "    </tr>\n",
       "    <tr>\n",
       "        <td>509</td>\n",
       "    </tr>\n",
       "    <tr>\n",
       "        <td>508</td>\n",
       "    </tr>\n",
       "</table>"
      ],
      "text/plain": [
       "[(Decimal('525'),),\n",
       " (Decimal('522'),),\n",
       " (Decimal('519'),),\n",
       " (Decimal('519'),),\n",
       " (Decimal('513'),),\n",
       " (Decimal('512'),),\n",
       " (Decimal('512'),),\n",
       " (Decimal('509'),),\n",
       " (Decimal('508'),)]"
      ]
     },
     "execution_count": 25,
     "metadata": {},
     "output_type": "execute_result"
    }
   ],
   "source": [
    "#Select the number of days since each sales date\n",
    "%sql select (CURRENT DATE - SALEDATE) from PETSALE;"
   ]
  },
  {
   "cell_type": "code",
   "execution_count": null,
   "metadata": {},
   "outputs": [],
   "source": []
  }
 ],
 "metadata": {
  "kernelspec": {
   "display_name": "Python 3",
   "language": "python",
   "name": "python3"
  },
  "language_info": {
   "codemirror_mode": {
    "name": "ipython",
    "version": 3
   },
   "file_extension": ".py",
   "mimetype": "text/x-python",
   "name": "python",
   "nbconvert_exporter": "python",
   "pygments_lexer": "ipython3",
   "version": "3.6.5"
  }
 },
 "nbformat": 4,
 "nbformat_minor": 2
}
